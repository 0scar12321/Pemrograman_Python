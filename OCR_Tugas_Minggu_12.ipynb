{
  "nbformat": 4,
  "nbformat_minor": 0,
  "metadata": {
    "colab": {
      "name": "Copy of Tugas Minggu 12.ipynb",
      "provenance": [],
      "collapsed_sections": [],
      "include_colab_link": true
    },
    "kernelspec": {
      "name": "python3",
      "display_name": "Python 3"
    }
  },
  "cells": [
    {
      "cell_type": "markdown",
      "metadata": {
        "id": "view-in-github",
        "colab_type": "text"
      },
      "source": [
        "<a href=\"https://colab.research.google.com/github/0scar12321/Pemrograman_Python/blob/main/OCR_Tugas_Minggu_12.ipynb\" target=\"_parent\"><img src=\"https://colab.research.google.com/assets/colab-badge.svg\" alt=\"Open In Colab\"/></a>"
      ]
    },
    {
      "cell_type": "markdown",
      "metadata": {
        "id": "Or8e4dNghLgi"
      },
      "source": [
        "Oscar Mangiring Sangap Marpaung_1101190287_TT-43-G3"
      ]
    },
    {
      "cell_type": "code",
      "metadata": {
        "id": "Gvj-CQ4jCmZC"
      },
      "source": [
        "import numpy as np"
      ],
      "execution_count": null,
      "outputs": []
    },
    {
      "cell_type": "code",
      "metadata": {
        "id": "ydFqtsbkDKmz"
      },
      "source": [
        "NtL = lambda x: 10*np.log10(x)"
      ],
      "execution_count": null,
      "outputs": []
    },
    {
      "cell_type": "code",
      "metadata": {
        "id": "V78XQDcaDRBs"
      },
      "source": [
        "LtN = lambda x: 10**(x/10)"
      ],
      "execution_count": null,
      "outputs": []
    },
    {
      "cell_type": "code",
      "metadata": {
        "colab": {
          "base_uri": "https://localhost:8080/"
        },
        "id": "oV4TjTTSDWSf",
        "outputId": "0143c2f3-24f0-4e16-fe9a-a96f894867c7"
      },
      "source": [
        "d = int(input(\"Jarak     : \"))\r\n",
        "f = int(input(\"Frekuensi : \"))\r\n",
        "tipe = (input(\"tipe area : \"))\r\n",
        "hr = int(input(\"Tinggi antena pemancar : \"))\r\n",
        "ht = int(input(\"Tinggi antena penerima : \"))\r\n",
        "\r\n",
        "\r\n",
        "print(d,f,tipe,hr,ht)"
      ],
      "execution_count": null,
      "outputs": [
        {
          "output_type": "stream",
          "text": [
            "Jarak     : 15\n",
            "Frekuensi : 1700\n",
            "tipe area : suburban\n",
            "Tinggi antena pemancar : 100\n",
            "Tinggi antena penerima : 30\n",
            "15 1700 suburban 100 30\n"
          ],
          "name": "stdout"
        }
      ]
    },
    {
      "cell_type": "code",
      "metadata": {
        "id": "XE2Gak3XSOpy"
      },
      "source": [
        "def rumus(d,f,tipe,hr,ht):\r\n",
        "\r\n",
        "  # nilai C1 dan C2 berdasarkan f\r\n",
        "  if f in range(400,1500):\r\n",
        "    c1=69.55\r\n",
        "    c2=26.16\r\n",
        "  elif f in range(1501,2000):\r\n",
        "    c1=46.3\r\n",
        "    c2=33.9\r\n",
        "\r\n",
        "  #menentukan tipe area\r\n",
        "  if tipe == \"urban\":\r\n",
        "    cm = 0\r\n",
        "  elif tipe == \"suburban\":\r\n",
        "    cm = -2*np.log10(f/28)**2 - 5.4\r\n",
        "  elif tipe == \"open\":\r\n",
        "    cm = -4.78*np.log10(f)**2 + 18.33*np.log10(f) - 40.94\r\n",
        "\r\n",
        "  #menentukan a(hr)\r\n",
        "  ahr = (1.1*np.log10(f) - 0.7)*hr - (1.56*np.log10(f) - 0.8)\r\n",
        "\r\n",
        "  #menghitung pathloss\r\n",
        "  pldb = c1 + c2*np.log10(f) - 13.83*np.log10(ht) - ahr + (44.9 - 6.55*np.log10(ht))*np.log10(d) + cm\r\n",
        "  plnum = LtN(-pldb)\r\n",
        "\r\n",
        "  return pldb,plnum"
      ],
      "execution_count": null,
      "outputs": []
    },
    {
      "cell_type": "code",
      "metadata": {
        "colab": {
          "base_uri": "https://localhost:8080/"
        },
        "id": "3_DU1badgW30",
        "outputId": "9f5457a9-53cd-4c94-bb6c-49485fda8d0b"
      },
      "source": [
        "jawabandb, jawabannum = rumus(d,f,tipe,hr,ht)\r\n",
        "print(\"Pathloss dalam dB : \",jawabandb,\"dB\")\r\n",
        "print(\"pathloss dalam numerik : \",jawabannum)"
      ],
      "execution_count": null,
      "outputs": [
        {
          "output_type": "stream",
          "text": [
            "Pathloss dalam dB :  -116.05885736306017 dB\n",
            "pathloss dalam numerik :  403539207075.96027\n"
          ],
          "name": "stdout"
        }
      ]
    },
    {
      "cell_type": "code",
      "metadata": {
        "id": "NfHNQuTKg2J0"
      },
      "source": [
        ""
      ],
      "execution_count": null,
      "outputs": []
    }
  ]
}